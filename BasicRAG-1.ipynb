{
 "cells": [
  {
   "cell_type": "code",
   "execution_count": 6,
   "id": "4d272e6e-788d-4525-8dfa-46451eabbc58",
   "metadata": {},
   "outputs": [
    {
     "data": {
      "text/plain": [
       "True"
      ]
     },
     "execution_count": 6,
     "metadata": {},
     "output_type": "execute_result"
    }
   ],
   "source": [
    "import os\n",
    "import openai\n",
    "from dotenv import load_dotenv\n",
    "from openai import OpenAI\n",
    "load_dotenv()"
   ]
  },
  {
   "cell_type": "code",
   "execution_count": 10,
   "id": "d5e2c89a",
   "metadata": {},
   "outputs": [],
   "source": [
    "client = openai.Client(api_key=os.getenv(\"OPENAI_API_KEY\"))"
   ]
  },
  {
   "cell_type": "code",
   "execution_count": 12,
   "id": "62e67243",
   "metadata": {},
   "outputs": [],
   "source": [
    "answer = client.chat.completions.create(\n",
    "    model=\"gpt-4o\",\n",
    "    messages=[{\"role\":\"user\", \"content\":\"when can i join the course?\"}]\n",
    ")"
   ]
  },
  {
   "cell_type": "code",
   "execution_count": 16,
   "id": "202fa9b6",
   "metadata": {},
   "outputs": [
    {
     "data": {
      "text/plain": [
       "\"To provide you with more specific information on when you can join a course, I would need to know which course you are referring to. Courses have different start dates depending on the institution or platform offering them. Here are a few steps you can take to find out:\\n\\n1. **Check the Institution's Website:** If you know which school, university, or platform offers the course, visit their official website. Most institutions have a section for upcoming courses or academic calendars.\\n\\n2. **Contact the Course Provider:** If the information isn't readily available online, consider reaching out directly to the provider through email or phone.\\n\\n3. **Look for Enrollment Deadlines:** These are often posted alongside course descriptions. Enrollment deadlines will give you an idea of when you need to apply or sign up.\\n\\n4. **Review Course Listings:** Platforms like Coursera, Udemy, or edX often list the next available session for each course.\\n\\nIf you can provide more details about the specific course, I might be able to guide you further.\""
      ]
     },
     "execution_count": 16,
     "metadata": {},
     "output_type": "execute_result"
    }
   ],
   "source": [
    "answer.choices[0].message.content.strip()"
   ]
  },
  {
   "cell_type": "code",
   "execution_count": null,
   "id": "ed3a63fa",
   "metadata": {},
   "outputs": [],
   "source": []
  },
  {
   "cell_type": "code",
   "execution_count": null,
   "id": "f19e41d8",
   "metadata": {},
   "outputs": [],
   "source": []
  }
 ],
 "metadata": {
  "kernelspec": {
   "display_name": "venv",
   "language": "python",
   "name": "python3"
  },
  "language_info": {
   "codemirror_mode": {
    "name": "ipython",
    "version": 3
   },
   "file_extension": ".py",
   "mimetype": "text/x-python",
   "name": "python",
   "nbconvert_exporter": "python",
   "pygments_lexer": "ipython3",
   "version": "3.12.1"
  }
 },
 "nbformat": 4,
 "nbformat_minor": 5
}
