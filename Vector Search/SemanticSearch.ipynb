{
 "cells": [
  {
   "cell_type": "code",
   "execution_count": 3,
   "id": "45b8f8ab",
   "metadata": {},
   "outputs": [],
   "source": [
    "from qdrant_client import QdrantClient, models"
   ]
  },
  {
   "cell_type": "code",
   "execution_count": 18,
   "id": "0ea84f98",
   "metadata": {},
   "outputs": [],
   "source": [
    "client = QdrantClient(\n",
    "    url=\"http://localhost:6333\")"
   ]
  },
  {
   "cell_type": "code",
   "execution_count": 5,
   "id": "9fce4a43",
   "metadata": {},
   "outputs": [],
   "source": [
    "import requests\n",
    "\n",
    "docs_url = \"https://raw.githubusercontent.com/alexeygrigorev/llm-rag-workshop/refs/heads/main/notebooks/documents.json\"\n",
    "doc_response = requests.get(docs_url)\n",
    "documents_raw = doc_response.json()\n",
    "\n"
   ]
  },
  {
   "cell_type": "code",
   "execution_count": null,
   "id": "c19691c3",
   "metadata": {},
   "outputs": [],
   "source": [
    "from fastembed import TextEmbedding\n",
    "\n",
    "list_of_all_models = TextEmbedding.list_supported_models()\n",
    "print(\"Available models:\")\n",
    "for model in list_of_all_models:\n",
    "    print(f\"- {model}\")"
   ]
  },
  {
   "cell_type": "code",
   "execution_count": 8,
   "id": "cb54fef8",
   "metadata": {},
   "outputs": [],
   "source": [
    "EMBEDDING_DIMENSION = 512"
   ]
  },
  {
   "cell_type": "code",
   "execution_count": null,
   "id": "95db9b7a",
   "metadata": {},
   "outputs": [],
   "source": [
    "for model in list_of_all_models:\n",
    "    if model['dim'] == EMBEDDING_DIMENSION:\n",
    "       print(\"Models with dimension 512:\")\n",
    "       print(f\"- {model}\")"
   ]
  },
  {
   "cell_type": "code",
   "execution_count": null,
   "id": "340b0c50",
   "metadata": {},
   "outputs": [
    {
     "name": "stderr",
     "output_type": "stream",
     "text": [
      "Fetching 5 files: 100%|██████████| 5/5 [00:00<00:00,  5.12it/s]\n"
     ]
    }
   ],
   "source": [
    "# embedding_model = TextEmbedding(model='jinaai/jina-embeddings-v2-small-en')"
   ]
  },
  {
   "cell_type": "code",
   "execution_count": 14,
   "id": "4daa8024",
   "metadata": {},
   "outputs": [],
   "source": [
    "model_handle = \"jinaai/jina-embeddings-v2-small-en\" # we will use this handle later in point creation."
   ]
  },
  {
   "cell_type": "code",
   "execution_count": null,
   "id": "27db6e7d",
   "metadata": {},
   "outputs": [
    {
     "data": {
      "text/plain": [
       "True"
      ]
     },
     "execution_count": 19,
     "metadata": {},
     "output_type": "execute_result"
    }
   ],
   "source": [
    "# this is the qdrant collection, i.e. imagine like it is a vectorstore.\n",
    "collection_name = \"zoomcamp_rag\"\n",
    "\n",
    "client.create_collection(\n",
    "    collection_name=collection_name,\n",
    "    vectors_config=models.VectorParams(\n",
    "        size=EMBEDDING_DIMENSION,\n",
    "        distance=models.Distance.COSINE\n",
    "    )\n",
    ")\n",
    "\n",
    "# right now the collection is empty, so we can insert points.."
   ]
  },
  {
   "cell_type": "code",
   "execution_count": null,
   "id": "6851f1a5",
   "metadata": {},
   "outputs": [],
   "source": [
    "# we will be iterating through each course and each document in the course and only use the 'text' i.e. answer to make it into a point.\n",
    "# we also store additional information in the payload such as text, course and section.\n",
    "points = []\n",
    "id= 0\n",
    "\n",
    "for course in documents_raw:\n",
    "    for documents in course['documents']:\n",
    "        text = documents['text']\n",
    "        point = models.PointStruct(\n",
    "            id=id,\n",
    "            vector=models.Document(text=text, model=model_handle),\n",
    "            payload={\n",
    "                \"text\":documents['text'],\n",
    "                \"course\":course['course'],\n",
    "                \"section\":documents['section']\n",
    "            }\n",
    "        )\n",
    "        points.append(point)\n",
    "\n",
    "        id += 1"
   ]
  },
  {
   "cell_type": "code",
   "execution_count": 23,
   "id": "f518d242",
   "metadata": {},
   "outputs": [
    {
     "name": "stderr",
     "output_type": "stream",
     "text": [
      "Fetching 5 files: 100%|██████████| 5/5 [00:02<00:00,  2.17it/s]\n"
     ]
    },
    {
     "data": {
      "text/plain": [
       "UpdateResult(operation_id=0, status=<UpdateStatus.COMPLETED: 'completed'>)"
      ]
     },
     "execution_count": 23,
     "metadata": {},
     "output_type": "execute_result"
    }
   ],
   "source": [
    "# we now have all the point and we need to insert these into the collection.\n",
    "\n",
    "client.upsert(\n",
    "    collection_name=collection_name,\n",
    "    points=points\n",
    ")"
   ]
  },
  {
   "cell_type": "code",
   "execution_count": 26,
   "id": "405729c6",
   "metadata": {},
   "outputs": [],
   "source": [
    "# now that we have our collection ready, it is time to query it.\n",
    "# we define a small function for it.\n",
    "\n",
    "def search(query, limit=1):\n",
    "    result = client.query_points(\n",
    "        collection_name=collection_name,\n",
    "        query=models.Document(\n",
    "            text=query,\n",
    "            model=model_handle\n",
    "        ),\n",
    "        limit=limit,\n",
    "        with_payload=True\n",
    "    )\n",
    "\n",
    "    return result"
   ]
  },
  {
   "cell_type": "code",
   "execution_count": null,
   "id": "5290796f",
   "metadata": {},
   "outputs": [],
   "source": [
    "res = search(\"what if i submit my homework late?\", limit=5)\n",
    "for point in res.points:\n",
    "    print(f\"similarity score:{point.score}\")\n",
    "    print(point.payload['text'])\n",
    "    print()"
   ]
  },
  {
   "cell_type": "code",
   "execution_count": null,
   "id": "f9e0acf5",
   "metadata": {},
   "outputs": [],
   "source": []
  }
 ],
 "metadata": {
  "kernelspec": {
   "display_name": "venv",
   "language": "python",
   "name": "python3"
  },
  "language_info": {
   "codemirror_mode": {
    "name": "ipython",
    "version": 3
   },
   "file_extension": ".py",
   "mimetype": "text/x-python",
   "name": "python",
   "nbconvert_exporter": "python",
   "pygments_lexer": "ipython3",
   "version": "3.12.1"
  }
 },
 "nbformat": 4,
 "nbformat_minor": 5
}
