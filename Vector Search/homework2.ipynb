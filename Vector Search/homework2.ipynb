{
 "cells": [
  {
   "cell_type": "code",
   "execution_count": 13,
   "id": "1b0697a9",
   "metadata": {},
   "outputs": [],
   "source": [
    "from qdrant_client import QdrantClient, models\n",
    "import numpy as np"
   ]
  },
  {
   "cell_type": "code",
   "execution_count": null,
   "id": "4c3c8dac",
   "metadata": {},
   "outputs": [],
   "source": [
    "client = QdrantClient(\n",
    "    url=\"http://localhost:6333\")"
   ]
  },
  {
   "cell_type": "code",
   "execution_count": null,
   "id": "7b4e89b3",
   "metadata": {},
   "outputs": [],
   "source": [
    "from fastembed import TextEmbedding\n",
    "\n",
    "list_of_all_models = TextEmbedding.list_supported_models()\n",
    "print(\"Available models:\")\n",
    "for model in list_of_all_models:\n",
    "    if model['dim'] == 512:\n",
    "        print(\"Models with dimension 512:\")\n",
    "        print(f\"- {model}\")"
   ]
  },
  {
   "cell_type": "code",
   "execution_count": 5,
   "id": "9354d123",
   "metadata": {},
   "outputs": [],
   "source": [
    "embedding_model = TextEmbedding(model='jinaai/jina-embeddings-v2-small-en')"
   ]
  },
  {
   "cell_type": "code",
   "execution_count": 23,
   "id": "1970e5af",
   "metadata": {},
   "outputs": [],
   "source": [
    "q = \"I just discovered the course. Can I join now?\""
   ]
  },
  {
   "cell_type": "code",
   "execution_count": 57,
   "id": "5bb3422a",
   "metadata": {},
   "outputs": [],
   "source": [
    "embed_q = embedding_model.embed([q])"
   ]
  },
  {
   "cell_type": "code",
   "execution_count": 58,
   "id": "1145dc38",
   "metadata": {},
   "outputs": [],
   "source": [
    "embed_q_array = np.array(list(embed_q))[0]"
   ]
  },
  {
   "cell_type": "code",
   "execution_count": 59,
   "id": "d3817af4",
   "metadata": {},
   "outputs": [
    {
     "data": {
      "text/plain": [
       "(384,)"
      ]
     },
     "execution_count": 59,
     "metadata": {},
     "output_type": "execute_result"
    }
   ],
   "source": [
    "embed_q_array.shape"
   ]
  },
  {
   "cell_type": "code",
   "execution_count": null,
   "id": "3ced31a6",
   "metadata": {},
   "outputs": [],
   "source": []
  },
  {
   "cell_type": "code",
   "execution_count": null,
   "id": "a2f946a6",
   "metadata": {},
   "outputs": [],
   "source": []
  },
  {
   "cell_type": "code",
   "execution_count": null,
   "id": "a8816917",
   "metadata": {},
   "outputs": [],
   "source": []
  },
  {
   "cell_type": "code",
   "execution_count": null,
   "id": "eb4d90d2",
   "metadata": {},
   "outputs": [],
   "source": []
  },
  {
   "cell_type": "code",
   "execution_count": null,
   "id": "cfe97067",
   "metadata": {},
   "outputs": [],
   "source": []
  },
  {
   "cell_type": "code",
   "execution_count": null,
   "id": "8d4ca1cd",
   "metadata": {},
   "outputs": [],
   "source": []
  },
  {
   "cell_type": "code",
   "execution_count": null,
   "id": "50a047cf",
   "metadata": {},
   "outputs": [],
   "source": []
  },
  {
   "cell_type": "code",
   "execution_count": null,
   "id": "91e47a32",
   "metadata": {},
   "outputs": [],
   "source": []
  }
 ],
 "metadata": {
  "kernelspec": {
   "display_name": "venv",
   "language": "python",
   "name": "python3"
  },
  "language_info": {
   "codemirror_mode": {
    "name": "ipython",
    "version": 3
   },
   "file_extension": ".py",
   "mimetype": "text/x-python",
   "name": "python",
   "nbconvert_exporter": "python",
   "pygments_lexer": "ipython3",
   "version": "3.12.1"
  }
 },
 "nbformat": 4,
 "nbformat_minor": 5
}
