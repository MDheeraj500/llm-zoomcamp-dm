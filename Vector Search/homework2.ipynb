{
 "cells": [
  {
   "cell_type": "code",
   "execution_count": null,
   "id": "1b0697a9",
   "metadata": {},
   "outputs": [
    {
     "name": "stderr",
     "output_type": "stream",
     "text": [
      "/workspaces/llm-zoomcamp-dm/venv/lib/python3.12/site-packages/tqdm/auto.py:21: TqdmWarning: IProgress not found. Please update jupyter and ipywidgets. See https://ipywidgets.readthedocs.io/en/stable/user_install.html\n",
      "  from .autonotebook import tqdm as notebook_tqdm\n"
     ]
    }
   ],
   "source": [
    "from qdrant_client import QdrantClient, models\n",
    "import numpy as np\n",
    "from fastembed import TextEmbedding"
   ]
  },
  {
   "cell_type": "code",
   "execution_count": 72,
   "id": "4c3c8dac",
   "metadata": {},
   "outputs": [],
   "source": [
    "qd_client = QdrantClient(\n",
    "    url=\"http://localhost:6333\")"
   ]
  },
  {
   "cell_type": "markdown",
   "id": "e93c5dd8",
   "metadata": {},
   "source": [
    "## Question 1."
   ]
  },
  {
   "cell_type": "code",
   "execution_count": 17,
   "id": "9354d123",
   "metadata": {},
   "outputs": [],
   "source": [
    "# Choosing the embedding model : # jinaai/jina-embeddings-v2-small-en\n",
    "embedding_model = TextEmbedding(model_name='jinaai/jina-embeddings-v2-small-en')"
   ]
  },
  {
   "cell_type": "code",
   "execution_count": 22,
   "id": "1970e5af",
   "metadata": {},
   "outputs": [
    {
     "data": {
      "text/plain": [
       "(512,)"
      ]
     },
     "execution_count": 22,
     "metadata": {},
     "output_type": "execute_result"
    }
   ],
   "source": [
    "# initializing the query\n",
    "# q = \"I just discovered the course. Can I join now?\" and embedding it using the embedding model chosen\n",
    "query = \"I just discovered the course. Can I join now?\"\n",
    "q = np.array(list(embedding_model.embed([query])))[0]\n",
    "q.shape"
   ]
  },
  {
   "cell_type": "code",
   "execution_count": 23,
   "id": "5bb3422a",
   "metadata": {},
   "outputs": [
    {
     "name": "stdout",
     "output_type": "stream",
     "text": [
      "The minimum value in the array is: -0.11726373885183883\n"
     ]
    }
   ],
   "source": [
    "print(f\"The minimum value in the array is: {float(min(q))}\")"
   ]
  },
  {
   "cell_type": "code",
   "execution_count": 29,
   "id": "d0194389",
   "metadata": {},
   "outputs": [
    {
     "data": {
      "text/plain": [
       "1.0"
      ]
     },
     "execution_count": 29,
     "metadata": {},
     "output_type": "execute_result"
    }
   ],
   "source": [
    "import numpy as np\n",
    "float(np.linalg.norm(q))"
   ]
  },
  {
   "cell_type": "code",
   "execution_count": 30,
   "id": "b4497fd3",
   "metadata": {},
   "outputs": [
    {
     "data": {
      "text/plain": [
       "1.0000000000000002"
      ]
     },
     "execution_count": 30,
     "metadata": {},
     "output_type": "execute_result"
    }
   ],
   "source": [
    "float(q.dot(q))"
   ]
  },
  {
   "cell_type": "markdown",
   "id": "25c078dd",
   "metadata": {},
   "source": [
    "## Question 2"
   ]
  },
  {
   "cell_type": "code",
   "execution_count": 31,
   "id": "d3817af4",
   "metadata": {},
   "outputs": [],
   "source": [
    "# initializing the doc \n",
    "doc = 'Can I still join the course after the start date?'"
   ]
  },
  {
   "cell_type": "code",
   "execution_count": 32,
   "id": "3ced31a6",
   "metadata": {},
   "outputs": [
    {
     "data": {
      "text/plain": [
       "(512,)"
      ]
     },
     "execution_count": 32,
     "metadata": {},
     "output_type": "execute_result"
    }
   ],
   "source": [
    "# converting this doc into a vector using the embedding model chosen.\n",
    "doc_vector = np.array(list(embedding_model.embed([doc])))[0]\n",
    "doc_vector.shape"
   ]
  },
  {
   "cell_type": "code",
   "execution_count": 37,
   "id": "a2f946a6",
   "metadata": {},
   "outputs": [
    {
     "name": "stdout",
     "output_type": "stream",
     "text": [
      "The cosine similarity between the query vector and doc vector is: 0.9008528895674548\n"
     ]
    }
   ],
   "source": [
    "# calculating the cosine similarity between the query and the doc vector\n",
    "cosine_similarity = doc_vector.dot(q)\n",
    "print(f\"The cosine similarity between the query vector and doc vector is: {float(cosine_similarity)}\")"
   ]
  },
  {
   "cell_type": "code",
   "execution_count": null,
   "id": "a8816917",
   "metadata": {},
   "outputs": [],
   "source": []
  },
  {
   "cell_type": "markdown",
   "id": "b8808742",
   "metadata": {},
   "source": [
    "## Question 3"
   ]
  },
  {
   "cell_type": "code",
   "execution_count": 38,
   "id": "eb4d90d2",
   "metadata": {},
   "outputs": [],
   "source": [
    "# initializing the documents\n",
    "documents = [{'text': \"Yes, even if you don't register, you're still eligible to submit the homeworks.\\nBe aware, however, that there will be deadlines for turning in the final projects. So don't leave everything for the last minute.\",\n",
    "  'section': 'General course-related questions',\n",
    "  'question': 'Course - Can I still join the course after the start date?',\n",
    "  'course': 'data-engineering-zoomcamp'},\n",
    " {'text': 'Yes, we will keep all the materials after the course finishes, so you can follow the course at your own pace after it finishes.\\nYou can also continue looking at the homeworks and continue preparing for the next cohort. I guess you can also start working on your final capstone project.',\n",
    "  'section': 'General course-related questions',\n",
    "  'question': 'Course - Can I follow the course after it finishes?',\n",
    "  'course': 'data-engineering-zoomcamp'},\n",
    " {'text': \"The purpose of this document is to capture frequently asked technical questions\\nThe exact day and hour of the course will be 15th Jan 2024 at 17h00. The course will start with the first  “Office Hours'' live.1\\nSubscribe to course public Google Calendar (it works from Desktop only).\\nRegister before the course starts using this link.\\nJoin the course Telegram channel with announcements.\\nDon’t forget to register in DataTalks.Club's Slack and join the channel.\",\n",
    "  'section': 'General course-related questions',\n",
    "  'question': 'Course - When will the course start?',\n",
    "  'course': 'data-engineering-zoomcamp'},\n",
    " {'text': 'You can start by installing and setting up all the dependencies and requirements:\\nGoogle cloud account\\nGoogle Cloud SDK\\nPython 3 (installed with Anaconda)\\nTerraform\\nGit\\nLook over the prerequisites and syllabus to see if you are comfortable with these subjects.',\n",
    "  'section': 'General course-related questions',\n",
    "  'question': 'Course - What can I do before the course starts?',\n",
    "  'course': 'data-engineering-zoomcamp'},\n",
    " {'text': 'Star the repo! Share it with friends if you find it useful ❣️\\nCreate a PR if you see you can improve the text or the structure of the repository.',\n",
    "  'section': 'General course-related questions',\n",
    "  'question': 'How can we contribute to the course?',\n",
    "  'course': 'data-engineering-zoomcamp'}]"
   ]
  },
  {
   "cell_type": "code",
   "execution_count": null,
   "id": "cfe97067",
   "metadata": {},
   "outputs": [
    {
     "name": "stdout",
     "output_type": "stream",
     "text": [
      "index: 0 and cosine similarity: 0.7629684696540238\n",
      "index: 1 and cosine similarity: 0.8182378150042889\n",
      "index: 2 and cosine similarity: 0.8085397398734189\n",
      "index: 3 and cosine similarity: 0.7133079015686243\n",
      "index: 4 and cosine similarity: 0.7304499234333598\n"
     ]
    }
   ],
   "source": [
    "index = 0\n",
    "for document in documents:\n",
    "    temp_document_vector = np.array(list(embedding_model.embed(document['text'])))[0]\n",
    "    print(f\"index: {index} and cosine similarity: {q.dot(temp_document_vector)}\")\n",
    "    index += 1"
   ]
  },
  {
   "cell_type": "code",
   "execution_count": null,
   "id": "8d4ca1cd",
   "metadata": {},
   "outputs": [
    {
     "data": {
      "text/plain": [
       "list"
      ]
     },
     "execution_count": 49,
     "metadata": {},
     "output_type": "execute_result"
    }
   ],
   "source": [
    "# trying the matrix method\n",
    "embeddings_text = []\n",
    "for document in documents:\n",
    "    embeddings_text.append(np.array(list(embedding_model.embed(document['text'])))[0])\n"
   ]
  },
  {
   "cell_type": "markdown",
   "id": "500cc778",
   "metadata": {},
   "source": [
    "## Question 4"
   ]
  },
  {
   "cell_type": "code",
   "execution_count": 50,
   "id": "50a047cf",
   "metadata": {},
   "outputs": [
    {
     "name": "stdout",
     "output_type": "stream",
     "text": [
      "index: 0 and cosine similarity: 0.8514543236908068\n",
      "index: 1 and cosine similarity: 0.8436594159113068\n",
      "index: 2 and cosine similarity: 0.8408287048502558\n",
      "index: 3 and cosine similarity: 0.7755157969663908\n",
      "index: 4 and cosine similarity: 0.8086007795043938\n"
     ]
    }
   ],
   "source": [
    "index = 0\n",
    "for document in documents:\n",
    "    temp_document_vector = np.array(list(embedding_model.embed(document['question'] + ' ' + document['text'])))[0]\n",
    "    print(f\"index: {index} and cosine similarity: {q.dot(temp_document_vector)}\")\n",
    "    index += 1"
   ]
  },
  {
   "cell_type": "markdown",
   "id": "d2f3b704",
   "metadata": {},
   "source": [
    "The answer for Q4 is more appropriate as the question in the 0th indexed document closely matches the query vector. Hence giving rise to a higher cosine similarity score"
   ]
  },
  {
   "cell_type": "markdown",
   "id": "6ca2408f",
   "metadata": {},
   "source": [
    "## Question 5"
   ]
  },
  {
   "cell_type": "code",
   "execution_count": null,
   "id": "e2dfa5aa",
   "metadata": {},
   "outputs": [],
   "source": [
    "# checking the dimensions of all the supported models in fastembed\n",
    "model_dimensions = []\n",
    "for model in TextEmbedding.list_supported_models():\n",
    "    model_dimensions.append(int(model['dim']))\n",
    "min_dim = min(model_dimensions)"
   ]
  },
  {
   "cell_type": "code",
   "execution_count": 63,
   "id": "3301e8e6",
   "metadata": {},
   "outputs": [
    {
     "name": "stdout",
     "output_type": "stream",
     "text": [
      "The smallest dimension in the supported fastembed models is: 384\n"
     ]
    }
   ],
   "source": [
    "print(f\"The smallest dimension in the supported fastembed models is: {min_dim}\")"
   ]
  },
  {
   "cell_type": "code",
   "execution_count": 62,
   "id": "c2736fd3",
   "metadata": {},
   "outputs": [
    {
     "name": "stdout",
     "output_type": "stream",
     "text": [
      "BAAI/bge-small-en\n",
      "BAAI/bge-small-en-v1.5\n",
      "snowflake/snowflake-arctic-embed-xs\n",
      "snowflake/snowflake-arctic-embed-s\n",
      "sentence-transformers/all-MiniLM-L6-v2\n",
      "sentence-transformers/paraphrase-multilingual-MiniLM-L12-v2\n"
     ]
    }
   ],
   "source": [
    "for model in TextEmbedding.list_supported_models():\n",
    "    if model['dim'] == min_dim:\n",
    "        print(model['model'])"
   ]
  },
  {
   "cell_type": "code",
   "execution_count": 66,
   "id": "b5dabb21",
   "metadata": {},
   "outputs": [],
   "source": [
    "new_embedding_model_name = \"BAAI/bge-small-en\""
   ]
  },
  {
   "cell_type": "code",
   "execution_count": 67,
   "id": "0d9ef190",
   "metadata": {},
   "outputs": [
    {
     "name": "stderr",
     "output_type": "stream",
     "text": [
      "Fetching 5 files: 100%|██████████| 5/5 [00:00<00:00,  7.41it/s]\n"
     ]
    }
   ],
   "source": [
    "new_embedding_model = TextEmbedding(model_name=new_embedding_model_name)"
   ]
  },
  {
   "cell_type": "code",
   "execution_count": null,
   "id": "4f4e9dad",
   "metadata": {},
   "outputs": [],
   "source": []
  },
  {
   "cell_type": "markdown",
   "id": "1c63bb46",
   "metadata": {},
   "source": [
    "## Question 6"
   ]
  },
  {
   "cell_type": "code",
   "execution_count": 68,
   "id": "6f89b947",
   "metadata": {},
   "outputs": [],
   "source": [
    "# Bringing in more documents\n",
    "import requests \n",
    "\n",
    "docs_url = 'https://github.com/alexeygrigorev/llm-rag-workshop/raw/main/notebooks/documents.json'\n",
    "docs_response = requests.get(docs_url)\n",
    "documents_raw = docs_response.json()\n",
    "\n",
    "\n",
    "documents = []\n",
    "\n",
    "for course in documents_raw:\n",
    "    course_name = course['course']\n",
    "    if course_name != 'machine-learning-zoomcamp':\n",
    "        continue\n",
    "\n",
    "    for doc in course['documents']:\n",
    "        doc['course'] = course_name\n",
    "        documents.append(doc)"
   ]
  },
  {
   "cell_type": "code",
   "execution_count": 70,
   "id": "7d873f3d",
   "metadata": {},
   "outputs": [
    {
     "data": {
      "text/plain": [
       "{'text': 'Machine Learning Zoomcamp FAQ\\nThe purpose of this document is to capture frequently asked technical questions.\\nWe did this for our data engineering course and it worked quite well. Check this document for inspiration on how to structure your questions and answers:\\nData Engineering Zoomcamp FAQ\\nIn the course GitHub repository there’s a link. Here it is: https://airtable.com/shryxwLd0COOEaqXo\\nwork',\n",
       " 'section': 'General course-related questions',\n",
       " 'question': 'How do I sign up?',\n",
       " 'course': 'machine-learning-zoomcamp'}"
      ]
     },
     "execution_count": 70,
     "metadata": {},
     "output_type": "execute_result"
    }
   ],
   "source": [
    "documents[0]"
   ]
  },
  {
   "cell_type": "code",
   "execution_count": 73,
   "id": "bb2715f8",
   "metadata": {},
   "outputs": [
    {
     "data": {
      "text/plain": [
       "True"
      ]
     },
     "execution_count": 73,
     "metadata": {},
     "output_type": "execute_result"
    }
   ],
   "source": [
    "# adding them a collection in qdrant\n",
    "collection_name = \"zoomcamp-vector-search\"\n",
    "\n",
    "qd_client.create_collection(\n",
    "    collection_name=collection_name,\n",
    "    vectors_config=models.VectorParams(\n",
    "        size=min_dim,\n",
    "        distance=models.Distance.COSINE\n",
    "    )\n",
    ")"
   ]
  },
  {
   "cell_type": "code",
   "execution_count": 74,
   "id": "a5d6778b",
   "metadata": {},
   "outputs": [],
   "source": [
    "points = []\n",
    "id=0\n",
    "\n",
    "for doc in documents:\n",
    "    text= doc['question'] + ' ' + doc['text']\n",
    "    point=models.PointStruct(\n",
    "        id=id,\n",
    "        vector=models.Document(text=text, model=new_embedding_model_name),\n",
    "        payload={\n",
    "            \"text\":doc[\"text\"],\n",
    "            \"question\":doc[\"question\"],\n",
    "            \"course\":doc[\"course\"],\n",
    "            \"section\":doc[\"section\"]\n",
    "        }\n",
    "    )\n",
    "    points.append(point)\n",
    "    id += 1"
   ]
  },
  {
   "cell_type": "code",
   "execution_count": null,
   "id": "3564829c",
   "metadata": {},
   "outputs": [],
   "source": [
    "points[0]"
   ]
  },
  {
   "cell_type": "code",
   "execution_count": 76,
   "id": "a40a430a",
   "metadata": {},
   "outputs": [
    {
     "data": {
      "text/plain": [
       "UpdateResult(operation_id=0, status=<UpdateStatus.COMPLETED: 'completed'>)"
      ]
     },
     "execution_count": 76,
     "metadata": {},
     "output_type": "execute_result"
    }
   ],
   "source": [
    "# uploading this collection onto qdrant\n",
    "qd_client.upsert(\n",
    "    collection_name=collection_name,\n",
    "    points=points\n",
    ")"
   ]
  },
  {
   "cell_type": "code",
   "execution_count": 78,
   "id": "59141064",
   "metadata": {},
   "outputs": [],
   "source": [
    "def search(query, limit):\n",
    "    results=qd_client.query_points(\n",
    "        collection_name=collection_name,\n",
    "        query=models.Document(\n",
    "            text=query,\n",
    "            model=new_embedding_model_name\n",
    "        ),\n",
    "        limit=limit,\n",
    "        with_payload=True\n",
    "    )\n",
    "    return results"
   ]
  },
  {
   "cell_type": "code",
   "execution_count": 88,
   "id": "e65e73e6",
   "metadata": {},
   "outputs": [
    {
     "name": "stdout",
     "output_type": "stream",
     "text": [
      "Question: I just discovered the course. Can I join now?\n",
      "\n",
      "Answer: \n",
      "Yes, you can. You won’t be able to submit some of the homeworks, but you can still take part in the course.\n",
      "In order to get a certificate, you need to submit 2 out of 3 course projects and review 3 peers’ Projects by the deadline. It means that if you join the course at the end of November and manage to work on two projects, you will still be eligible for a certificate. \n",
      "- score 0.8703172\n",
      "\n",
      "Answer: \n",
      "Approximately 4 months, but may take more if you want to do some extra activities (an extra project, an article, etc) \n",
      "- score 0.86918855\n",
      "\n",
      "Answer: \n",
      "Here’s how you join a in Slack: https://slack.com/help/articles/205239967-Join-a-channel\n",
      "Click “All channels” at the top of your left sidebar. If you don't see this option, click “More” to find it.\n",
      "Browse the list of public channels in your workspace, or use the search bar to search by channel name or description.\n",
      "Select a channel from the list to view it.\n",
      "Click Join Channel.\n",
      "Do we need to provide the GitHub link to only our code corresponding to the homework questions?\n",
      "Yes. You are required to provide the URL to your repo in order to receive a grade \n",
      "- score 0.86833113\n",
      "\n",
      "Answer: \n",
      "TODO \n",
      "- score 0.8576106\n",
      "\n",
      "Answer: \n",
      "Welcome to the course! Go to the course page (http://mlzoomcamp.com/), scroll down and start going through the course materials. Then read everything in the cohort folder for your cohort’s year.\n",
      "Click on the links and start watching the videos. Also watch office hours from previous cohorts. Go to DTC youtube channel and click on Playlists and search for {course yyyy}. ML Zoomcamp was first launched in 2021.\n",
      "Or you can just use this link: http://mlzoomcamp.com/#syllabus \n",
      "- score 0.85715395\n"
     ]
    }
   ],
   "source": [
    "results = search(query,5).points\n",
    "print(f\"Question: {query}\")\n",
    "for result in results:\n",
    "    print()\n",
    "    print(f\"Answer: \\n{result.payload['text']} \\n- score {result.score}\")"
   ]
  },
  {
   "cell_type": "code",
   "execution_count": null,
   "id": "ce69df92",
   "metadata": {},
   "outputs": [],
   "source": []
  },
  {
   "cell_type": "code",
   "execution_count": null,
   "id": "c31c1ba0",
   "metadata": {},
   "outputs": [],
   "source": []
  },
  {
   "cell_type": "code",
   "execution_count": null,
   "id": "afdc04ad",
   "metadata": {},
   "outputs": [],
   "source": []
  },
  {
   "cell_type": "markdown",
   "id": "ff55ef8c",
   "metadata": {},
   "source": []
  }
 ],
 "metadata": {
  "kernelspec": {
   "display_name": "venv",
   "language": "python",
   "name": "python3"
  },
  "language_info": {
   "codemirror_mode": {
    "name": "ipython",
    "version": 3
   },
   "file_extension": ".py",
   "mimetype": "text/x-python",
   "name": "python",
   "nbconvert_exporter": "python",
   "pygments_lexer": "ipython3",
   "version": "3.12.1"
  }
 },
 "nbformat": 4,
 "nbformat_minor": 5
}
